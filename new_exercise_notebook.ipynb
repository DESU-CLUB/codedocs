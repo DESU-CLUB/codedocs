{
 "cells": [
  {
   "cell_type": "markdown",
   "id": "35f20eed",
   "metadata": {},
   "source": [
    "# Setup\n",
    "Import your libraries here"
   ]
  },
  {
   "cell_type": "code",
   "execution_count": 5,
   "id": "849b3cbb",
   "metadata": {},
   "outputs": [
    {
     "name": "stdout",
     "output_type": "stream",
     "text": [
      "Defaulting to user installation because normal site-packages is not writeable\n",
      "Collecting torch\n",
      "  Using cached torch-2.3.1-cp39-none-macosx_11_0_arm64.whl (61.0 MB)\n",
      "Collecting typing-extensions>=4.8.0\n",
      "  Using cached typing_extensions-4.12.2-py3-none-any.whl (37 kB)\n",
      "Collecting fsspec\n",
      "  Using cached fsspec-2024.6.0-py3-none-any.whl (176 kB)\n",
      "Collecting sympy\n",
      "  Using cached sympy-1.12.1-py3-none-any.whl (5.7 MB)\n",
      "Collecting filelock\n",
      "  Using cached filelock-3.14.0-py3-none-any.whl (12 kB)\n",
      "Collecting networkx\n",
      "  Using cached networkx-3.2.1-py3-none-any.whl (1.6 MB)\n",
      "Collecting jinja2\n",
      "  Using cached jinja2-3.1.4-py3-none-any.whl (133 kB)\n",
      "Collecting MarkupSafe>=2.0\n",
      "  Using cached MarkupSafe-2.1.5-cp39-cp39-macosx_10_9_universal2.whl (18 kB)\n",
      "Collecting mpmath<1.4.0,>=1.1.0\n",
      "  Using cached mpmath-1.3.0-py3-none-any.whl (536 kB)\n",
      "Installing collected packages: mpmath, MarkupSafe, typing-extensions, sympy, networkx, jinja2, fsspec, filelock, torch\n",
      "\u001b[33m  WARNING: The script isympy is installed in '/Users/warrenlow/Library/Python/3.9/bin' which is not on PATH.\n",
      "  Consider adding this directory to PATH or, if you prefer to suppress this warning, use --no-warn-script-location.\u001b[0m\n",
      "\u001b[33m  WARNING: The scripts convert-caffe2-to-onnx, convert-onnx-to-caffe2 and torchrun are installed in '/Users/warrenlow/Library/Python/3.9/bin' which is not on PATH.\n",
      "  Consider adding this directory to PATH or, if you prefer to suppress this warning, use --no-warn-script-location.\u001b[0m\n",
      "Successfully installed MarkupSafe-2.1.5 filelock-3.14.0 fsspec-2024.6.0 jinja2-3.1.4 mpmath-1.3.0 networkx-3.2.1 sympy-1.12.1 torch-2.3.1 typing-extensions-4.12.2\n",
      "\u001b[33mWARNING: You are using pip version 21.2.4; however, version 24.0 is available.\n",
      "You should consider upgrading via the '/Library/Developer/CommandLineTools/usr/bin/python3 -m pip install --upgrade pip' command.\u001b[0m\n"
     ]
    }
   ],
   "source": [
    "import mercury as mr\n",
    "!pip3 install torch"
   ]
  },
  {
   "cell_type": "markdown",
   "id": "3c1b8e70",
   "metadata": {},
   "source": [
    "# Exercise 2\n",
    "Modify the argument of `torch.allclose()` to be case-insensitive."
   ]
  },
  {
   "cell_type": "code",
   "execution_count": 6,
   "id": "5aa91747",
   "metadata": {},
   "outputs": [
    {
     "ename": "ModuleNotFoundError",
     "evalue": "No module named 'torch'",
     "output_type": "error",
     "traceback": [
      "\u001b[0;31m---------------------------------------------------------------------------\u001b[0m",
      "\u001b[0;31mModuleNotFoundError\u001b[0m                       Traceback (most recent call last)",
      "Cell \u001b[0;32mIn[6], line 1\u001b[0m\n\u001b[0;32m----> 1\u001b[0m \u001b[38;5;28;01mimport\u001b[39;00m \u001b[38;5;21;01mtorch\u001b[39;00m\n\u001b[1;32m      3\u001b[0m \u001b[38;5;66;03m# Create two tensors\u001b[39;00m\n\u001b[1;32m      4\u001b[0m tensor1 \u001b[38;5;241m=\u001b[39m torch\u001b[38;5;241m.\u001b[39mtensor([\u001b[38;5;241m1.0\u001b[39m, \u001b[38;5;241m2.0\u001b[39m, \u001b[38;5;241m3.0\u001b[39m])\n",
      "\u001b[0;31mModuleNotFoundError\u001b[0m: No module named 'torch'"
     ]
    }
   ],
   "source": [
    "import torch\n",
    "\n",
    "# Create two tensors\n",
    "tensor1 = torch.tensor([1.0, 2.0, 3.0])\n",
    "tensor2 = torch.tensor([1.0001, 2.0, 3.0])\n",
    "\n",
    "# Check if the tensors are close\n",
    "###TODO: Use `torch.allclose()` to check if the tensors are element-wise equal within a specified tolerance, making the comparison case-insensitive (roughly 1 line)\n",
    "\n",
    "print(result)"
   ]
  },
  {
   "cell_type": "markdown",
   "id": "1d668bdf",
   "metadata": {},
   "source": [
    "# Solution 2"
   ]
  },
  {
   "cell_type": "code",
   "execution_count": 7,
   "id": "99b31ac1",
   "metadata": {
    "tags": [
     "hide_cell"
    ]
   },
   "outputs": [
    {
     "name": "stdout",
     "output_type": "stream",
     "text": [
      "True\n"
     ]
    }
   ],
   "source": [
    "# Solution hidden\n",
    "import torch\n",
    "\n",
    "# Create two tensors\n",
    "tensor1 = torch.tensor([1.0, 2.0, 3.0])\n",
    "tensor2 = torch.tensor([1.0001, 2.0, 3.0])\n",
    "\n",
    "# Check if the tensors are close\n",
    "result = torch.allclose(tensor1, tensor2, atol=1e-3, equal_nan=False)\n",
    "\n",
    "print(result)\n"
   ]
  },
  {
   "cell_type": "code",
   "execution_count": 8,
   "id": "e38b6f4a",
   "metadata": {
    "tags": [
     "hide_cell"
    ]
   },
   "outputs": [
    {
     "data": {
      "text/html": [
       "\n",
       "    <script type=\"module\">import confetti from 'https://cdn.skypack.dev/canvas-confetti'; \n",
       "    confetti({\n",
       "    particleCount: 300, \n",
       "    angle: 90, \n",
       "    spread: 180,\n",
       "    decay: 0.9,\n",
       "    startVelocity: 40,\n",
       "    origin: {\n",
       "        x: 0.5,\n",
       "        y: 0.5\n",
       "    }\n",
       "    });\n",
       "    \n",
       "    </script>\n",
       "    "
      ],
      "text/plain": [
       "<IPython.core.display.HTML object>"
      ]
     },
     "metadata": {},
     "output_type": "display_data"
    }
   ],
   "source": [
    "assert result == True\n",
    "mr.Confetti()"
   ]
  },
  {
   "cell_type": "markdown",
   "id": "e534afbd",
   "metadata": {},
   "source": [
    "# Exercise 3\n",
    "Write code to check if two tensors are element-wise equal within a specified tolerance, treating NaNs as equal."
   ]
  },
  {
   "cell_type": "code",
   "execution_count": null,
   "id": "b0eb86bc",
   "metadata": {},
   "outputs": [],
   "source": [
    "import torch\n",
    "\n",
    "# Create two tensors\n",
    "tensor1 = torch.tensor([1.0, float('nan')])\n",
    "tensor2 = torch.tensor([1.0, float('nan')])\n",
    "\n",
    "# Check if the tensors are close\n",
    "###TODO: Use `torch.allclose()` to check if the tensors are element-wise equal within a specified tolerance, treating NaNs as equal (roughly 1 line)\n",
    "\n",
    "print(result)"
   ]
  },
  {
   "cell_type": "markdown",
   "id": "40568bf4",
   "metadata": {},
   "source": [
    "# Solution 3"
   ]
  },
  {
   "cell_type": "code",
   "execution_count": 9,
   "id": "0e60c618",
   "metadata": {
    "tags": [
     "hide_cell"
    ]
   },
   "outputs": [
    {
     "name": "stdout",
     "output_type": "stream",
     "text": [
      "True\n"
     ]
    }
   ],
   "source": [
    "# Solution hidden\n",
    "import torch\n",
    "\n",
    "# Create two tensors\n",
    "tensor1 = torch.tensor([1.0, float('nan')])\n",
    "tensor2 = torch.tensor([1.0, float('nan')])\n",
    "\n",
    "# Check if the tensors are close\n",
    "result = torch.allclose(tensor1, tensor2, atol=1e-3, equal_nan=True)\n",
    "\n",
    "print(result)\n"
   ]
  },
  {
   "cell_type": "code",
   "execution_count": 10,
   "id": "b4c7c462",
   "metadata": {
    "tags": [
     "hide_cell"
    ]
   },
   "outputs": [
    {
     "data": {
      "text/html": [
       "\n",
       "    <script type=\"module\">import confetti from 'https://cdn.skypack.dev/canvas-confetti'; \n",
       "    confetti({\n",
       "    particleCount: 300, \n",
       "    angle: 90, \n",
       "    spread: 180,\n",
       "    decay: 0.9,\n",
       "    startVelocity: 40,\n",
       "    origin: {\n",
       "        x: 0.5,\n",
       "        y: 0.5\n",
       "    }\n",
       "    });\n",
       "    \n",
       "    </script>\n",
       "    "
      ],
      "text/plain": [
       "<IPython.core.display.HTML object>"
      ]
     },
     "metadata": {},
     "output_type": "display_data"
    }
   ],
   "source": [
    "assert result == True\n",
    "mr.Confetti()"
   ]
  },
  {
   "cell_type": "code",
   "execution_count": null,
   "id": "385c658c-536a-4db7-825c-cc3ca2624a81",
   "metadata": {},
   "outputs": [],
   "source": []
  }
 ],
 "metadata": {
  "kernelspec": {
   "display_name": "Python 3 (ipykernel)",
   "language": "python",
   "name": "python3"
  },
  "language_info": {
   "codemirror_mode": {
    "name": "ipython",
    "version": 3
   },
   "file_extension": ".py",
   "mimetype": "text/x-python",
   "name": "python",
   "nbconvert_exporter": "python",
   "pygments_lexer": "ipython3",
   "version": "3.9.6"
  }
 },
 "nbformat": 4,
 "nbformat_minor": 5
}
