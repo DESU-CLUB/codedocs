{
 "cells": [
  {
   "cell_type": "markdown",
   "id": "305e94ad",
   "metadata": {},
   "source": [
    "# Setup\n",
    "Import your libraries here"
   ]
  },
  {
   "cell_type": "code",
   "execution_count": null,
   "id": "b42ac5e8",
   "metadata": {},
   "outputs": [],
   "source": [
    "import mercury as mr"
   ]
  },
  {
   "cell_type": "markdown",
   "id": "723e54f9",
   "metadata": {},
   "source": [
    "# Exercise 2\n",
    "Compute the transpose of a 2-D tensor."
   ]
  },
  {
   "cell_type": "code",
   "execution_count": null,
   "id": "2860338c",
   "metadata": {},
   "outputs": [],
   "source": [
    "import torch\n",
    "\n",
    "# Create a sample tensor\n",
    "tensor = torch.tensor([[1, 2], [3, 4]])\n",
    "\n",
    "# Compute the transpose of the tensor\n",
    "###TODO: Transpose the tensor (roughly 1 line)\n",
    "\n",
    "print(transposed_tensor)"
   ]
  },
  {
   "cell_type": "markdown",
   "id": "5421fada",
   "metadata": {},
   "source": [
    "# Solution 2"
   ]
  },
  {
   "cell_type": "code",
   "execution_count": null,
   "id": "7409e7f9",
   "metadata": {
    "tags": [
     "hide_cell"
    ]
   },
   "outputs": [],
   "source": [
    "\"\"\"\n",
    "# Solution hidden\n",
    "import torch\n",
    "\n",
    "# Create a sample tensor\n",
    "tensor = torch.tensor([[1, 2], [3, 4]])\n",
    "\n",
    "# Compute the transpose of the tensor\n",
    "transposed_tensor = tensor.t()\n",
    "\n",
    "print(transposed_tensor)\n",
    "\"\"\""
   ]
  },
  {
   "cell_type": "code",
   "execution_count": null,
   "id": "ae1b5475",
   "metadata": {
    "tags": [
     "hide_cell"
    ]
   },
   "outputs": [],
   "source": [
    "assert transposed_tensor.size() == (torch.Size([2, 2]))\n",
    "assert (transposed_tensor[0] == torch.tensor([1, 3])).all()\n",
    "assert (transposed_tensor[1] == torch.tensor([2, 4])).all()\n",
    "mr.Confetti()"
   ]
  },
  {
   "cell_type": "markdown",
   "id": "5276af37",
   "metadata": {},
   "source": [
    "# Exercise 3\n",
    "Perform matrix multiplication on two tensors."
   ]
  },
  {
   "cell_type": "code",
   "execution_count": null,
   "id": "f4ab4941",
   "metadata": {},
   "outputs": [],
   "source": [
    "import torch\n",
    "\n",
    "# Create two sample tensors\n",
    "tensor1 = torch.tensor([[1, 2], [3, 4]])\n",
    "tensor2 = torch.tensor([[5, 6], [7, 8]])\n",
    "\n",
    "# Perform matrix multiplication on the two tensors\n",
    "###TODO: Perform matrix multiplication (roughly 1 line)\n",
    "\n",
    "print(product_tensor)"
   ]
  },
  {
   "cell_type": "markdown",
   "id": "5a36bc2c",
   "metadata": {},
   "source": [
    "# Solution 3"
   ]
  },
  {
   "cell_type": "code",
   "execution_count": null,
   "id": "5241da4e",
   "metadata": {
    "tags": [
     "hide_cell"
    ]
   },
   "outputs": [],
   "source": [
    "\"\"\"\n",
    "# Solution hidden\n",
    "import torch\n",
    "\n",
    "# Create two sample tensors\n",
    "tensor1 = torch.tensor([[1, 2], [3, 4]])\n",
    "tensor2 = torch.tensor([[5, 6], [7, 8]])\n",
    "\n",
    "# Perform matrix multiplication on the two tensors\n",
    "product_tensor = torch.mm(tensor1, tensor2)\n",
    "\n",
    "print(product_tensor)\n",
    "\"\"\""
   ]
  },
  {
   "cell_type": "code",
   "execution_count": null,
   "id": "d3f2f9f0",
   "metadata": {
    "tags": [
     "hide_cell"
    ]
   },
   "outputs": [],
   "source": [
    "assert product_tensor.size() == torch.Size([2, 2])\n",
    "assert (product_tensor == torch.tensor([[1*5 + 2*7, 1*6 + 2*8], [3*5 + 4*7, 3*6 + 4*8]])).all()\n",
    "mr.Confetti()"
   ]
  },
  {
   "cell_type": "markdown",
   "id": "2b9165c3",
   "metadata": {},
   "source": [
    "# Exercise 4\n",
    "Compute the element-wise absolute value of a tensor."
   ]
  },
  {
   "cell_type": "code",
   "execution_count": null,
   "id": "88c297e2",
   "metadata": {},
   "outputs": [],
   "source": [
    "import torch\n",
    "\n",
    "# Create a sample tensor\n",
    "tensor = torch.tensor([-1, 2, -3, 4, -5])\n",
    "\n",
    "# Compute the element-wise absolute value of the tensor\n",
    "###TODO: Compute the element-wise absolute value (roughly 1 line)\n",
    "\n",
    "print(abs_tensor)"
   ]
  },
  {
   "cell_type": "markdown",
   "id": "f3be7e3f",
   "metadata": {},
   "source": [
    "# Solution 4"
   ]
  },
  {
   "cell_type": "code",
   "execution_count": null,
   "id": "9d0fca4d",
   "metadata": {
    "tags": [
     "hide_cell"
    ]
   },
   "outputs": [],
   "source": [
    "\"\"\"\n",
    "# Solution hidden\n",
    "import torch\n",
    "\n",
    "# Create a sample tensor\n",
    "tensor = torch.tensor([-1, 2, -3, 4, -5])\n",
    "\n",
    "# Compute the element-wise absolute value of the tensor\n",
    "abs_tensor = torch.abs(tensor)\n",
    "\n",
    "print(abs_tensor)\n",
    "\"\"\""
   ]
  },
  {
   "cell_type": "code",
   "execution_count": null,
   "id": "82bdfe06",
   "metadata": {
    "tags": [
     "hide_cell"
    ]
   },
   "outputs": [],
   "source": [
    "assert abs_tensor.size() == tensor.size()\n",
    "assert (abs_tensor == torch.tensor([1, 2, 3, 4, 5])).all()\n",
    "mr.Confetti()"
   ]
  }
 ],
 "metadata": {},
 "nbformat": 4,
 "nbformat_minor": 5
}
