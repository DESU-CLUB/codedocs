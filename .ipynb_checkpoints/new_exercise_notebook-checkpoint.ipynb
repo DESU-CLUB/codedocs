{
 "cells": [
  {
   "cell_type": "markdown",
   "id": "35f20eed",
   "metadata": {},
   "source": [
    "# Setup\n",
    "Import your libraries here"
   ]
  },
  {
   "cell_type": "code",
   "execution_count": null,
   "id": "849b3cbb",
   "metadata": {},
   "outputs": [],
   "source": [
    "import mercury as mr"
   ]
  },
  {
   "cell_type": "markdown",
   "id": "3c1b8e70",
   "metadata": {},
   "source": [
    "# Exercise 2\n",
    "Modify the argument of `torch.allclose()` to be case-insensitive."
   ]
  },
  {
   "cell_type": "code",
   "execution_count": null,
   "id": "5aa91747",
   "metadata": {},
   "outputs": [],
   "source": [
    "import torch\n",
    "\n",
    "# Create two tensors\n",
    "tensor1 = torch.tensor([1.0, 2.0, 3.0])\n",
    "tensor2 = torch.tensor([1.0001, 2.0, 3.0])\n",
    "\n",
    "# Check if the tensors are close\n",
    "###TODO: Use `torch.allclose()` to check if the tensors are element-wise equal within a specified tolerance, making the comparison case-insensitive (roughly 1 line)\n",
    "\n",
    "print(result)"
   ]
  },
  {
   "cell_type": "markdown",
   "id": "1d668bdf",
   "metadata": {},
   "source": [
    "# Solution 2"
   ]
  },
  {
   "cell_type": "code",
   "execution_count": null,
   "id": "99b31ac1",
   "metadata": {
    "tags": [
     "hide_cell"
    ]
   },
   "outputs": [],
   "source": [
    "\"\"\"\n",
    "# Solution hidden\n",
    "import torch\n",
    "\n",
    "# Create two tensors\n",
    "tensor1 = torch.tensor([1.0, 2.0, 3.0])\n",
    "tensor2 = torch.tensor([1.0001, 2.0, 3.0])\n",
    "\n",
    "# Check if the tensors are close\n",
    "result = torch.allclose(tensor1, tensor2, atol=1e-3, equal_nan=False)\n",
    "\n",
    "print(result)\n",
    "\"\"\""
   ]
  },
  {
   "cell_type": "code",
   "execution_count": null,
   "id": "e38b6f4a",
   "metadata": {
    "tags": [
     "hide_cell"
    ]
   },
   "outputs": [],
   "source": [
    "assert result == True\n",
    "mr.Confetti()"
   ]
  },
  {
   "cell_type": "markdown",
   "id": "e534afbd",
   "metadata": {},
   "source": [
    "# Exercise 3\n",
    "Write code to check if two tensors are element-wise equal within a specified tolerance, treating NaNs as equal."
   ]
  },
  {
   "cell_type": "code",
   "execution_count": null,
   "id": "b0eb86bc",
   "metadata": {},
   "outputs": [],
   "source": [
    "import torch\n",
    "\n",
    "# Create two tensors\n",
    "tensor1 = torch.tensor([1.0, float('nan')])\n",
    "tensor2 = torch.tensor([1.0, float('nan')])\n",
    "\n",
    "# Check if the tensors are close\n",
    "###TODO: Use `torch.allclose()` to check if the tensors are element-wise equal within a specified tolerance, treating NaNs as equal (roughly 1 line)\n",
    "\n",
    "print(result)"
   ]
  },
  {
   "cell_type": "markdown",
   "id": "40568bf4",
   "metadata": {},
   "source": [
    "# Solution 3"
   ]
  },
  {
   "cell_type": "code",
   "execution_count": null,
   "id": "0e60c618",
   "metadata": {
    "tags": [
     "hide_cell"
    ]
   },
   "outputs": [],
   "source": [
    "\"\"\"\n",
    "# Solution hidden\n",
    "import torch\n",
    "\n",
    "# Create two tensors\n",
    "tensor1 = torch.tensor([1.0, float('nan')])\n",
    "tensor2 = torch.tensor([1.0, float('nan')])\n",
    "\n",
    "# Check if the tensors are close\n",
    "result = torch.allclose(tensor1, tensor2, atol=1e-3, equal_nan=True)\n",
    "\n",
    "print(result)\n",
    "\"\"\""
   ]
  },
  {
   "cell_type": "code",
   "execution_count": null,
   "id": "b4c7c462",
   "metadata": {
    "tags": [
     "hide_cell"
    ]
   },
   "outputs": [],
   "source": [
    "assert result == True\n",
    "mr.Confetti()"
   ]
  }
 ],
 "metadata": {},
 "nbformat": 4,
 "nbformat_minor": 5
}
