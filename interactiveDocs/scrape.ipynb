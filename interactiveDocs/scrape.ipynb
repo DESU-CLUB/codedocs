{
 "cells": [
  {
   "cell_type": "code",
   "execution_count": 8,
   "metadata": {},
   "outputs": [],
   "source": [
    "import requests\n",
    "import json\n",
    "import dotenv\n",
    "import os\n",
    "\n",
    "dotenv.load_dotenv()\n",
    "\n",
    "OPENROUTER_API_KEY = os.environ[\"OPENROUTER_KEY\"]\n",
    "def get_response(message):\n",
    "    response = requests.post(\n",
    "    url=\"https://openrouter.ai/api/v1/chat/completions\",\n",
    "    headers={\n",
    "        \"Authorization\": f\"Bearer {OPENROUTER_API_KEY}\",\n",
    "    },\n",
    "    data=json.dumps({\n",
    "        \"model\": \"mistralai/mixtral-8x22b\", # Optional\n",
    "        \"messages\": [\n",
    "        {\"role\": \"user\", \"content\": message}\n",
    "        ]\n",
    "    })\n",
    "    ).json()\n",
    "    \n",
    "    return response\n",
    "\n",
    "\n",
    "response= get_response(\"1+ 3+ 5 = \")"
   ]
  },
  {
   "cell_type": "code",
   "execution_count": 9,
   "metadata": {},
   "outputs": [
    {
     "name": "stdout",
     "output_type": "stream",
     "text": [
      "\n",
      "11\n",
      "\n",
      "\n"
     ]
    }
   ],
   "source": [
    "print(response['choices'][0]['message']['content'])"
   ]
  },
  {
   "cell_type": "code",
   "execution_count": 4,
   "metadata": {},
   "outputs": [],
   "source": [
    "import json\n",
    "with open(\"gpt-crawler/output-1.json\", \"r\") as f:\n",
    "    data = json.load(f)"
   ]
  },
  {
   "cell_type": "code",
   "execution_count": 9,
   "metadata": {},
   "outputs": [],
   "source": [
    "content_map = {}\n",
    "titles = []\n",
    "for topic in data:\n",
    "    titles.append(topic['title'])\n",
    "    content_map[topic['title']] = topic['html']\n",
    "        "
   ]
  },
  {
   "cell_type": "code",
   "execution_count": 25,
   "metadata": {},
   "outputs": [
    {
     "name": "stdout",
     "output_type": "stream",
     "text": [
      "Here's a coding exercise based on the summary:\n",
      "\n",
      "Compute the 1D discrete Fourier transform of the given input tensor and print the result.\n",
      "\n",
      "```python\n",
      "import torch\n",
      "\n",
      "# Create a sample input tensor\n",
      "x = torch.tensor([1, 2, 3, 4, 5, 6, 7, 8], dtype=torch.float32)\n",
      "\n",
      "# TODO: Compute the 1D discrete Fourier transform of x (roughly 1 line)\n",
      "\n",
      "print(\"FFT output:\", y)\n",
      "```\n"
     ]
    }
   ],
   "source": [
    "def templater(title, content):\n",
    "    return f\"\"\"\n",
    "    Given the following documentation in HTML, please first summarize step by step what the section is about and then provide a code snippet that demonstrates the functionality of the section.\n",
    "    ################################################\n",
    "    You are given the title: {title}\n",
    "    ################################################\n",
    "    Here is the documentation:\n",
    "    {content}\n",
    "    \"\"\"\n",
    "    \n",
    "\n",
    "\n",
    "def ex_templater(summary):\n",
    "    return f\"\"\"\n",
    "    Given the following summary, please write a coding exercise for the user to complete. You should write most of the code out already, and only leave a few lines blank for the user to write out\n",
    "    \n",
    "    You should only generate the instructions and the code exercise. The solutions and explanations are to be omitted.\n",
    "    \n",
    "    The following example is an example of what you should output:\n",
    "    ################################################\n",
    "    Example 1:\n",
    "    Write code to assign the value of 1+2 to the variable a, and print it.\n",
    "    \n",
    "    a = 1+2\n",
    "    ###TODO: print out the value of a (roughly 1 line)\n",
    "    ________________________________________________\n",
    "    Example 2:\n",
    "    Write code to assign the value of 3+4 to the variable b, and print it.\n",
    "    \n",
    "    b = 3+4\n",
    "    ###TODO: print out the value of b (roughly 1 line)\n",
    "    ################################################\n",
    "    Here is the summary:\n",
    "    {summary}\n",
    "    \"\"\"\n",
    "\n",
    "\n",
    "for i in titles[:10]:\n",
    "    topic_ex = content_map[i]\n",
    "    template = templater(i, topic_ex)\n",
    "    res = get_response(template)\n",
    "    \n",
    "    summary = res['choices'][0]['message']['content']\n",
    "    ex_template = ex_templater(summary)\n",
    "    res = get_response(ex_template)\n",
    "    print(res['choices'][0]['message']['content'])\n",
    "    \n",
    "    break\n",
    "    \n",
    "    "
   ]
  },
  {
   "cell_type": "code",
   "execution_count": 26,
   "metadata": {},
   "outputs": [
    {
     "name": "stdout",
     "output_type": "stream",
     "text": [
      "Certainly! Here's the completed code for the given coding exercise, along with test cases:\n",
      "\n",
      "```python\n",
      "def is_palindrome(s):\n",
      "    # Remove non-alphanumeric characters and convert to lowercase\n",
      "    s = ''.join(c.lower() for c in s if c.isalnum())\n",
      "    \n",
      "    # Check if the string is equal to its reverse\n",
      "    return s == s[::-1]\n",
      "```\n",
      "\n",
      "Test Cases:\n",
      "\n",
      "```python\n",
      "def test_is_palindrome():\n",
      "    # Test case 1: Empty string\n",
      "    assert is_palindrome(\"\") == True\n",
      "    \n",
      "    # Test case 2: Single character\n",
      "    assert is_palindrome(\"a\") == True\n",
      "    \n",
      "    # Test case 3: Simple palindrome\n",
      "    assert is_palindrome(\"racecar\") == True\n",
      "    \n",
      "    # Test case 4: Palindrome with spaces and punctuation\n",
      "    assert is_palindrome(\"A man, a plan, a canal: Panama\") == True\n",
      "    \n",
      "    # Test case 5: Non-palindrome\n",
      "    assert is_palindrome(\"hello\") == False\n",
      "    \n",
      "    # Test case 6: Palindrome with mixed case\n",
      "    assert is_palindrome(\"Madam\") == True\n",
      "    \n",
      "    # Test case 7: Palindrome with numbers\n",
      "    assert is_palindrome(\"12321\") == True\n",
      "    \n",
      "    # Test case 8: Non-palindrome with spaces and punctuation\n",
      "    assert is_palindrome(\"race a car\") == False\n",
      "    \n",
      "    print(\"All test cases passed!\")\n",
      "\n",
      "# Run the test cases\n",
      "test_is_palindrome()\n",
      "```\n",
      "\n",
      "Explanation:\n",
      "\n",
      "1. The `is_palindrome` function takes a string `s` as input.\n",
      "2. It first removes all non-alphanumeric characters from the string using a list comprehension and the `join` method. It also converts all characters to lowercase to make the comparison case-insensitive.\n",
      "3. Finally, it checks if the modified string is equal to its reverse using string slicing (`s[::-1]`). If they are equal, the string is a palindrome, and the function returns `True`. Otherwise, it returns `False`.\n",
      "\n",
      "The test cases cover various scenarios to ensure the correctness of the `is_palindrome` function:\n",
      "\n",
      "1. Test case 1 checks an empty string, which is considered a palindrome.\n",
      "2. Test case 2 checks a single character, which is always a palindrome.\n",
      "3. Test case 3 checks a simple palindrome without any spaces or punctuation.\n",
      "4. Test case 4 checks a palindrome with spaces and punctuation.\n",
      "5. Test case 5 checks a non-palindrome string.\n",
      "6. Test case 6 checks a palindrome with mixed case letters.\n",
      "7. Test case 7 checks a palindrome with numbers.\n",
      "8. Test case 8 checks a non-palindrome string with spaces and punctuation.\n",
      "\n",
      "The `test_is_palindrome` function runs all the test cases using `assert` statements. If all the assertions pass, the message \"All test cases passed!\" is printed. If any assertion fails, an `AssertionError` will be raised, indicating a failed test case.\n",
      "\n",
      "You can run the code and verify that all the test cases pass.\n"
     ]
    }
   ],
   "source": [
    "def answer_template(exercise):\n",
    "    return f\"\"\"\n",
    "    Given the following coding exercise, please write out the code that would complete the exercise. You should write out the code that would complete the exercise.\n",
    "    \n",
    "    Please also generate test cases for the code that you write. You should ensure that the testcases work.\n",
    "    \n",
    "    {exercise}\n",
    "\n",
    "\"\"\"\n",
    "temp_res = res['choices'][0]['message']['content']\n",
    "\n",
    "ans_temp = answer_template(res['choices'][0]['message']['content'])\n",
    "res = get_response(ans_temp)\n",
    "print(res['choices'][0]['message']['content'])"
   ]
  },
  {
   "cell_type": "code",
   "execution_count": null,
   "metadata": {},
   "outputs": [],
   "source": []
  }
 ],
 "metadata": {
  "kernelspec": {
   "display_name": "smuAI",
   "language": "python",
   "name": "python3"
  },
  "language_info": {
   "codemirror_mode": {
    "name": "ipython",
    "version": 3
   },
   "file_extension": ".py",
   "mimetype": "text/x-python",
   "name": "python",
   "nbconvert_exporter": "python",
   "pygments_lexer": "ipython3",
   "version": "3.10.12"
  }
 },
 "nbformat": 4,
 "nbformat_minor": 2
}
